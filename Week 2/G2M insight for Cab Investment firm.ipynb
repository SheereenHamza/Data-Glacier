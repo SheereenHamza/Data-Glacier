{
 "cells": [
  {
   "cell_type": "markdown",
   "id": "aa10cbaa",
   "metadata": {},
   "source": [
    "<hr />\n",
    "\n",
    "# G2M insight for Cab Investment firm\n",
    "<hr />\n",
    "<hr />\n",
    "<br />\n"
   ]
  },
  {
   "cell_type": "markdown",
   "id": "80e20070",
   "metadata": {},
   "source": [
    "## Problem Statement\n",
    "<hr />\n",
    "\n",
    "XYZ is a private firm in US. Due to remarkable growth in the Cab Industry in last few years and multiple key players in the market, it is planning for an investment in Cab industry and as per their Go-to-Market(G2M) strategy they want to understand the market before taking final decision.\n",
    "\n",
    "You have been provided with multiple data sets that contains information on 2 cab companies. Each file (data set) provided represents different aspects of the customer profile. XYZ is interested in using your actionable insights to help them identify the right company to make their investment.\n",
    "\n",
    "<br />\n",
    "<br />\n"
   ]
  },
  {
   "cell_type": "markdown",
   "id": "def9d551",
   "metadata": {},
   "source": [
    "## Data Understanding\n",
    "<hr />\n",
    "\n",
    "You have been provided 4 individual data sets. Time period of data is from 31/01/2016 to 31/12/2018.\n",
    "\n",
    "Below are the list of datasets which are provided for the analysis:\n",
    "\n",
    "<ol>\n",
    "    <li> <b> Cab_Data.csv : </b> this file includes details of transaction for 2 cab companies </li>\n",
    "    <li> <b> Customer_ID.csv : </b> this is a mapping table that contains a unique identifier which links the customer’s demographic details </li>\n",
    "    <li> <b> Transaction_ID.csv : </b> this is a mapping table that contains transaction to customer mapping and payment mode </li>\n",
    "    <li> <b> City.csv : </b> this file contains list of US cities, their population and number of cab users </li>\n",
    "</ol>\n",
    "\n",
    "<br />\n"
   ]
  },
  {
   "cell_type": "code",
   "execution_count": 7,
   "id": "38549ea4",
   "metadata": {},
   "outputs": [],
   "source": [
    "# Import necessary libraries\n",
    "import pandas as pd\n",
    "import numpy as np\n",
    "import matplotlib.pyplot as plt\n",
    "import seaborn as sns\n",
    "%matplotlib inline\n",
    "\n",
    "import warnings\n",
    "warnings.filterwarnings('ignore')\n"
   ]
  },
  {
   "cell_type": "code",
   "execution_count": 2,
   "id": "d5453e91",
   "metadata": {},
   "outputs": [
    {
     "name": "stdout",
     "output_type": "stream",
     "text": [
      "Requirement already satisfied: fuzzywuzzy in c:\\users\\kvham\\anaconda3\\lib\\site-packages (0.18.0)\n"
     ]
    }
   ],
   "source": [
    "!pip install fuzzywuzzy"
   ]
  },
  {
   "cell_type": "code",
   "execution_count": 8,
   "id": "176e2bd7",
   "metadata": {},
   "outputs": [],
   "source": [
    "import fuzzywuzzy\n",
    "from fuzzywuzzy import process\n",
    "import chardet\n"
   ]
  },
  {
   "cell_type": "markdown",
   "id": "e719cde7",
   "metadata": {},
   "source": [
    "Let us import the datasets"
   ]
  },
  {
   "cell_type": "code",
   "execution_count": 9,
   "id": "0e02b27f",
   "metadata": {},
   "outputs": [],
   "source": [
    "cab_df = pd.read_csv('DataSets/Cab_Data.csv') # cab details\n",
    "cust_df = pd.read_csv('DataSets/Customer_ID.csv') # customer details\n",
    "trans_df = pd.read_csv('DataSets/Transaction_ID.csv') # transaction details\n",
    "city_df = pd.read_csv('DataSets/City.csv') # city details\n"
   ]
  },
  {
   "cell_type": "markdown",
   "id": "2e8622a2",
   "metadata": {},
   "source": [
    "Let us analyse the 4 datasets to find the following:\n",
    "1. Shape\n",
    "2. Columns and their datatypes\n",
    "3. Head / snapshot of the dataset\n",
    "4. Unique info\n",
    "5. Other statistics of numerical columns\n"
   ]
  },
  {
   "cell_type": "markdown",
   "id": "0403ec27",
   "metadata": {},
   "source": [
    "### cab_df"
   ]
  },
  {
   "cell_type": "code",
   "execution_count": 10,
   "id": "5e453d49",
   "metadata": {},
   "outputs": [
    {
     "data": {
      "text/plain": [
       "(359392, 7)"
      ]
     },
     "execution_count": 10,
     "metadata": {},
     "output_type": "execute_result"
    }
   ],
   "source": [
    "cab_df.shape"
   ]
  },
  {
   "cell_type": "code",
   "execution_count": 11,
   "id": "016b1cae",
   "metadata": {},
   "outputs": [
    {
     "name": "stdout",
     "output_type": "stream",
     "text": [
      "<class 'pandas.core.frame.DataFrame'>\n",
      "RangeIndex: 359392 entries, 0 to 359391\n",
      "Data columns (total 7 columns):\n",
      " #   Column          Non-Null Count   Dtype  \n",
      "---  ------          --------------   -----  \n",
      " 0   Transaction ID  359392 non-null  int64  \n",
      " 1   Date of Travel  359392 non-null  int64  \n",
      " 2   Company         359392 non-null  object \n",
      " 3   City            359392 non-null  object \n",
      " 4   KM Travelled    359392 non-null  float64\n",
      " 5   Price Charged   359392 non-null  float64\n",
      " 6   Cost of Trip    359392 non-null  float64\n",
      "dtypes: float64(3), int64(2), object(2)\n",
      "memory usage: 19.2+ MB\n"
     ]
    }
   ],
   "source": [
    "cab_df.info()"
   ]
  },
  {
   "cell_type": "code",
   "execution_count": null,
   "id": "798e58a5",
   "metadata": {},
   "outputs": [],
   "source": [
    "cab_df.describe()"
   ]
  },
  {
   "cell_type": "code",
   "execution_count": null,
   "id": "7f77a10f",
   "metadata": {},
   "outputs": [],
   "source": [
    "cab_df.head()"
   ]
  },
  {
   "cell_type": "code",
   "execution_count": null,
   "id": "d06a8dba",
   "metadata": {},
   "outputs": [],
   "source": [
    "print(cab_df.Company.value_counts(), '\\n')\n",
    "print(cab_df.City.value_counts(), '\\n')\n",
    "print(cab_df['Date of Travel'].value_counts())\n"
   ]
  },
  {
   "cell_type": "markdown",
   "id": "1f0b71e3",
   "metadata": {},
   "source": [
    "<br />\n",
    "\n",
    "### cust_df"
   ]
  },
  {
   "cell_type": "code",
   "execution_count": null,
   "id": "3a5ecefe",
   "metadata": {},
   "outputs": [],
   "source": [
    "cust_df.shape"
   ]
  },
  {
   "cell_type": "code",
   "execution_count": null,
   "id": "1bb504d7",
   "metadata": {},
   "outputs": [],
   "source": [
    "cust_df.info()"
   ]
  },
  {
   "cell_type": "code",
   "execution_count": null,
   "id": "76edc6d7",
   "metadata": {},
   "outputs": [],
   "source": [
    "cust_df.describe()"
   ]
  },
  {
   "cell_type": "code",
   "execution_count": null,
   "id": "697122f2",
   "metadata": {},
   "outputs": [],
   "source": [
    "cust_df.head()"
   ]
  },
  {
   "cell_type": "markdown",
   "id": "38eab75c",
   "metadata": {},
   "source": [
    "<br />\n",
    "\n",
    "### trans_df"
   ]
  },
  {
   "cell_type": "code",
   "execution_count": null,
   "id": "dd17d4eb",
   "metadata": {},
   "outputs": [],
   "source": [
    "trans_df.shape"
   ]
  },
  {
   "cell_type": "code",
   "execution_count": null,
   "id": "fba79135",
   "metadata": {},
   "outputs": [],
   "source": [
    "trans_df.info()"
   ]
  },
  {
   "cell_type": "code",
   "execution_count": null,
   "id": "992ef09f",
   "metadata": {},
   "outputs": [],
   "source": [
    "trans_df.describe()"
   ]
  },
  {
   "cell_type": "code",
   "execution_count": null,
   "id": "60a0ef69",
   "metadata": {},
   "outputs": [],
   "source": [
    "trans_df.head()"
   ]
  },
  {
   "cell_type": "code",
   "execution_count": null,
   "id": "b5c25ca2",
   "metadata": {},
   "outputs": [],
   "source": [
    "trans_df.Payment_Mode.value_counts()"
   ]
  },
  {
   "cell_type": "markdown",
   "id": "650766be",
   "metadata": {},
   "source": [
    "<br />\n",
    "\n",
    "### city_df"
   ]
  },
  {
   "cell_type": "code",
   "execution_count": null,
   "id": "edb8860d",
   "metadata": {},
   "outputs": [],
   "source": [
    "city_df.shape"
   ]
  },
  {
   "cell_type": "code",
   "execution_count": null,
   "id": "4d924941",
   "metadata": {},
   "outputs": [],
   "source": [
    "city_df.info()"
   ]
  },
  {
   "cell_type": "code",
   "execution_count": null,
   "id": "3c834b75",
   "metadata": {},
   "outputs": [],
   "source": [
    "city_df.describe()"
   ]
  },
  {
   "cell_type": "code",
   "execution_count": null,
   "id": "28f68b11",
   "metadata": {},
   "outputs": [],
   "source": [
    "city_df.head()"
   ]
  },
  {
   "cell_type": "code",
   "execution_count": null,
   "id": "119b4609",
   "metadata": {},
   "outputs": [],
   "source": [
    "city_df.City.value_counts()"
   ]
  },
  {
   "cell_type": "markdown",
   "id": "3a5ba8d9",
   "metadata": {},
   "source": [
    "<br />\n",
    "<br />"
   ]
  },
  {
   "cell_type": "markdown",
   "id": "75dac20c",
   "metadata": {},
   "source": [
    "## Data Cleaning\n",
    "<hr />\n",
    "\n",
    "<ol>\n",
    "    <li> Check for null values </li>\n",
    "    <li> Check for duplicate entries </li>\n",
    "    <li> Check names of columns </li>\n",
    "    <li> Check datatype and values in columns </li>\n",
    "    <li> Check unique values in columns </li>\n",
    "    <li> Merge dataframes and drop columns not necessary for analysis </li>\n",
    "    <li> Derive features, if necessary </li>\n",
    "    <li> Check for outliers </li>\n",
    "    <li> Sanity checks </li>\n",
    "</ol>\n",
    "\n",
    "<br />\n",
    "<br />\n"
   ]
  },
  {
   "cell_type": "markdown",
   "id": "e6d6d282",
   "metadata": {},
   "source": [
    "<br />\n",
    "\n",
    "### 1. Check for null values\n",
    "<hr />"
   ]
  },
  {
   "cell_type": "code",
   "execution_count": null,
   "id": "16416f08",
   "metadata": {},
   "outputs": [],
   "source": [
    "print('Percentage of null values in:')\n",
    "print('   cab_df: {}%\\n   cust_df: {}%\\n   trans_df: {}%\\n   city_df: {}%'.format(\n",
    "    round(cab_df.isnull().sum().sum() / cab_df.shape[0] * 100, 2),\n",
    "    round(cust_df.isnull().sum().sum() / cust_df.shape[0] * 100, 2),\n",
    "    round(trans_df.isnull().sum().sum() / trans_df.shape[0] * 100, 2),\n",
    "    round(city_df.isnull().sum().sum() / city_df.shape[0] * 100, 2)\n",
    "))\n"
   ]
  },
  {
   "cell_type": "markdown",
   "id": "f882739e",
   "metadata": {},
   "source": [
    "<br />\n",
    "<br />\n",
    "\n",
    "### 2. Check for duplicate entries\n",
    "<hr />\n"
   ]
  },
  {
   "cell_type": "code",
   "execution_count": null,
   "id": "f548c892",
   "metadata": {},
   "outputs": [],
   "source": [
    "print('No of duplicate entries in: ')\n",
    "print('   cab_df: {}\\n   cust_df: {}\\n   trans_df: {}\\n   city_df:{}'.format(\n",
    "    cab_df.duplicated().sum(), cust_df.duplicated().sum(), trans_df.duplicated().sum(), city_df.duplicated().sum()\n",
    "))\n"
   ]
  },
  {
   "cell_type": "markdown",
   "id": "521bd2ab",
   "metadata": {},
   "source": [
    "<br />\n",
    "<br />\n",
    "\n",
    "### 3. Check names of the columns\n",
    "<hr/>\n"
   ]
  },
  {
   "cell_type": "code",
   "execution_count": null,
   "id": "bc1e0478",
   "metadata": {},
   "outputs": [],
   "source": [
    "dataframes = {'cab_df': cab_df, 'cust_df': cust_df, 'trans_df': trans_df, 'city_df': city_df}\n",
    "\n",
    "for df_name, df in dataframes.items():\n",
    "    print(df_name, '\\n', '='*25, '\\n')\n",
    "    print(df.info(), '\\n')\n",
    "    "
   ]
  },
  {
   "cell_type": "markdown",
   "id": "0669b2a3",
   "metadata": {},
   "source": [
    "Let us make the column names follow <i>snake_case</i>, for ease of use.\n",
    "\n",
    "Let us also change <b>Income (USD/Month)</b> of cust_df to <b>income_usd_per_month</b>.\n"
   ]
  },
  {
   "cell_type": "code",
   "execution_count": null,
   "id": "8d982019",
   "metadata": {},
   "outputs": [],
   "source": [
    "for df_name, df in dataframes.items():\n",
    "    if df_name == 'cust_df':\n",
    "        df.rename(columns={'Income (USD/Month)':'income_usd_per_month'}, inplace=True)\n",
    "    cols = ['_'.join(col.lower().split()) for col in df.columns]\n",
    "    df.columns = cols\n",
    "    # check if the change was made\n",
    "    print(df_name, '\\n', '='*10, '\\n')\n",
    "    print(df.columns, '\\n')\n",
    "    "
   ]
  },
  {
   "cell_type": "markdown",
   "id": "bb62be5e",
   "metadata": {},
   "source": [
    "<br />\n",
    "<br />\n",
    "\n",
    "### 4. Check datatype of columns\n",
    "<hr />\n"
   ]
  },
  {
   "cell_type": "code",
   "execution_count": null,
   "id": "e8a40efb",
   "metadata": {},
   "outputs": [],
   "source": [
    "\n",
    "for df_name, df in dataframes.items():\n",
    "    print(df_name, '\\n', '='*25, '\\n')\n",
    "    print(df.info(), '\\n')\n",
    "    print(df.head(3),'\\n', '-'*100, '\\n')\n",
    "    "
   ]
  },
  {
   "cell_type": "markdown",
   "id": "f7df6114",
   "metadata": {},
   "source": [
    "### <i>Observations</i>\n",
    "------------------------------\n",
    "1. cab_df: The <b>date_of_travel</b> column is of type </i>integer</i>. It should be <i>datetime</i>. Moreover, it has erronous values\n",
    "2. city_df: The <b>population</b> and <b>users</b> columns are of type <i>object</i>. It should be <i>integer</i>\n",
    "</b>\n",
    "\n",
    "\n"
   ]
  },
  {
   "cell_type": "code",
   "execution_count": null,
   "id": "54b536c9",
   "metadata": {},
   "outputs": [],
   "source": [
    "# check unique values in population and users column in city_df\n",
    "print(city_df.population.value_counts())\n",
    "print(\"\\n\\n\", city_df.users.value_counts())\n"
   ]
  },
  {
   "cell_type": "markdown",
   "id": "eea2871c",
   "metadata": {},
   "source": [
    "We can convert both these columns from type <i>object</i> to type <i>int</i> by removing the commas."
   ]
  },
  {
   "cell_type": "code",
   "execution_count": null,
   "id": "327e28a9",
   "metadata": {},
   "outputs": [],
   "source": [
    "# convert population and users to type int\n",
    "print(\"Before conversion: \", city_df.info(), \"\\n\")\n",
    "print(city_df.head(), \"\\n\\n\\n\")\n",
    "\n",
    "city_df.population = city_df.population.apply(lambda pop: int(pop.strip().replace(',','')))\n",
    "city_df.users = city_df.users.apply(lambda us: int(us.strip().replace(',','')))\n",
    "\n",
    "print(\"After conversion: \", city_df.info(), \"\\n\")\n",
    "print(city_df.head(), \"\\n\\n\\n\")\n"
   ]
  },
  {
   "cell_type": "markdown",
   "id": "6def2cc3",
   "metadata": {},
   "source": [
    "<br />\n",
    "<br />\n",
    "\n",
    "### 4. Check unique values in columns\n",
    "<hr />\n"
   ]
  },
  {
   "cell_type": "code",
   "execution_count": null,
   "id": "a1536be0",
   "metadata": {},
   "outputs": [],
   "source": [
    "for df_name, df in dataframes.items():\n",
    "    print(df_name, \"   \", df.shape)\n",
    "    print('='*25, '\\n')\n",
    "    for col in df.columns:\n",
    "        print(col)\n",
    "        print('-'*15)\n",
    "        print('No of unique values: ', df[col].nunique())\n",
    "        print('Percentage of unique values: ', round(df[col].nunique() / df.shape[0] * 100, 2), '%')\n",
    "        print(df[col].value_counts(), '\\n')\n",
    "    print('\\n\\n')\n",
    "    "
   ]
  },
  {
   "cell_type": "markdown",
   "id": "eb15bcee",
   "metadata": {},
   "source": [
    "### <i>Observations</i>\n",
    "------------------------------\n",
    "1. ### cab_df:\n",
    "   ----------\n",
    "    - <b>transaction_id</b> has 100% unique values. We can drop this column as it will add no value to our analysis.\n",
    "    - <b>date_of_travel</b> has date stored as excel serial date. Let us convert it to datetime.\n",
    "    - <b>company</b> has on only 2 unique values: Yellow cab and Pink cab. This column segments the whole data to 2.\n",
    "    - <b>city</b> also has considerable amount of unique values, 19.\n",
    "    - <b>km_travelled</b> has 0.24% unique values. That is 874 out of the 359392. We can have more unique values by rounding off the floating value to nearest integer.\n",
    "    - We can similarly round of values of <b>price_charged</b> and <b>cost_of_trip</b>.\n",
    "    \n",
    "    <br />\n",
    "    \n",
    "2. ### cust_df\n",
    "   ----------\n",
    "   - <b>customer_id</b> has 100% unique values. We can drop this column as it will add no value to our analysis.\n",
    "   - <b>gender</b> has 2 unique values: Male and Female\n",
    "   - <b>age</b> has 0.1% unique values. That is 48 out of the total 49171 values are unique. We can have more unique values by giving in age groups, rather than age just like that.\n",
    "   - <b>income_usd_per_month</b> has about 50% unique values. We can have more unique values by rounding of this value.\n",
    "   \n",
    "   <br />\n",
    "   \n",
    "3. ### trans_df\n",
    "   ----------\n",
    "   - <b>transaction_id</b> has 100% unique values. We can drop this column as it will add no value to our analysis.\n",
    "   - <b>customer_id</b> has all the values in the customer_id column of cust_df.\n",
    "   - <b>payment_mode</b> has 2 unique values: Cash and Card\n",
    "   \n",
    "   <br />\n",
    "   \n",
    "4. ### city_df\n",
    "   ----------\n",
    "   - All the columns are of significance here.\n",
    "   \n",
    "\n",
    "<br />\n",
    "\n",
    "   \n",
    "There are some columns that can be dropped. But, we will do the same only after we rectify the errors found in some of them followed by merging all the dataframes into a master dataframe.\n",
    "\n",
    "   \n",
    "<br />\n",
    "<br />\n"
   ]
  },
  {
   "cell_type": "code",
   "execution_count": null,
   "id": "46faef44",
   "metadata": {},
   "outputs": [],
   "source": [
    "# convert date_of_travel to type datetime\n",
    "import xlrd\n",
    "\n",
    "print(\"Before conversion: \\n\")\n",
    "print(cab_df.info(), \"\\n\")\n",
    "print(cab_df.head(), \"\\n\\n\\n\")\n",
    "\n",
    "cab_df.date_of_travel = cab_df.date_of_travel.apply(lambda d: xlrd.xldate_as_datetime(d, 0).date())\n",
    "cab_df.date_of_travel = pd.to_datetime(cab_df.date_of_travel)\n",
    "\n",
    "print(\"After conversion: \\n\")\n",
    "print(cab_df.info(), \"\\n\")\n",
    "print(cab_df.head())\n"
   ]
  },
  {
   "cell_type": "code",
   "execution_count": null,
   "id": "d905e3ad",
   "metadata": {},
   "outputs": [],
   "source": [
    "# # round values in km_travelled, price_charged and cost_of_trip\n",
    "# cols = ['km_travelled', 'price_charged', 'cost_of_trip']\n",
    "# print(\"Before rounding values: \\n\")\n",
    "# for col in cols:\n",
    "#         print(col)\n",
    "#         print('-'*15)\n",
    "#         print('No of unique values: ', cab_df[col].nunique())\n",
    "#         print('Percentage of unique values: ', round(cab_df[col].nunique() / cab_df.shape[0] * 100, 2), '%')\n",
    "#         print(cab_df[col].value_counts(), '\\n')\n",
    "# print(\"\\n\\n\\n\")\n",
    "\n",
    "# for col in cols:\n",
    "#     cab_df[col] = cab_df[col].apply(lambda v: round(v))\n",
    "\n",
    "# print(\"After rounding values: \\n\")\n",
    "# for col in cols:\n",
    "#         print(col)\n",
    "#         print('-'*15)\n",
    "#         print('No of unique values: ', cab_df[col].nunique())\n",
    "#         print('Percentage of unique values: ', round(cab_df[col].nunique() / cab_df.shape[0] * 100, 2), '%')\n",
    "#         print(cab_df[col].value_counts(), '\\n')\n",
    "# print(\"\\n\\n\")"
   ]
  },
  {
   "cell_type": "markdown",
   "id": "1a79a233",
   "metadata": {},
   "source": [
    "Let us use fuzzy logic to check for same entries with different spelling etc.. in the <b>city</b> column of <b>city_df</b>."
   ]
  },
  {
   "cell_type": "code",
   "execution_count": null,
   "id": "7573d0e4",
   "metadata": {},
   "outputs": [],
   "source": [
    "cab_df.head()"
   ]
  },
  {
   "cell_type": "code",
   "execution_count": null,
   "id": "dcf4a7eb",
   "metadata": {},
   "outputs": [],
   "source": [
    "# get the top 5 closest matches to each fo the city names in both cab_df and city_df\n",
    "print(\"cab_df\")\n",
    "print(\"-\"*25)\n",
    "for city in cab_df.city.unique():\n",
    "    matches = fuzzywuzzy.process.extract(city, cab_df.city.unique(), limit=3, scorer=fuzzywuzzy.fuzz.token_sort_ratio)\n",
    "    print(city, \":  --->  \", matches)\n",
    "\n",
    "    \n",
    "print(\"\\n\\ncity_df\")\n",
    "print(\"-\"*25)\n",
    "for city in city_df.city.unique():\n",
    "    matches = fuzzywuzzy.process.extract(city, city_df.city.unique(), limit=3, scorer=fuzzywuzzy.fuzz.token_sort_ratio)\n",
    "    print(city, \":  --->  \", matches)\n",
    "    "
   ]
  },
  {
   "cell_type": "markdown",
   "id": "70ad7c5d",
   "metadata": {},
   "source": [
    "### <i>Observations</i>\n",
    "<hr />\n",
    "\n",
    "There are no city entries with erros. All are unique.\n",
    "\n",
    "<br />\n"
   ]
  },
  {
   "cell_type": "markdown",
   "id": "66ef762f",
   "metadata": {},
   "source": [
    "<br />\n",
    "<br />\n",
    "\n",
    "### 6. Merge dataframes and drop columns not necessary for analysis\n",
    "<hr />"
   ]
  },
  {
   "cell_type": "markdown",
   "id": "8d18f34f",
   "metadata": {},
   "source": [
    "Now, let us merge all the dataframes together to get a meaningfull master dataframe."
   ]
  },
  {
   "cell_type": "code",
   "execution_count": null,
   "id": "9608cb00",
   "metadata": {},
   "outputs": [],
   "source": [
    "for df_name, df in dataframes.items():\n",
    "    print(df_name, \"   ---   \", df.shape)\n",
    "    print('-'*25, \"\\n\")\n",
    "    print(df.head(), \"\\n\\n\")\n",
    "    "
   ]
  },
  {
   "cell_type": "code",
   "execution_count": null,
   "id": "fcda4c01",
   "metadata": {},
   "outputs": [],
   "source": [
    "# Merge cab_df and trans_df  on transaction_id\n",
    "master_df = pd.merge(cab_df, trans_df, on='transaction_id', how='inner')\n",
    "print(master_df.shape)\n",
    "master_df.head()\n"
   ]
  },
  {
   "cell_type": "code",
   "execution_count": null,
   "id": "475427a9",
   "metadata": {},
   "outputs": [],
   "source": [
    "# Merge cust_df and master_df on cust_id\n",
    "master_df = pd.merge(master_df, cust_df, on='customer_id', how='inner')\n",
    "print(master_df.shape)\n",
    "master_df.head()\n"
   ]
  },
  {
   "cell_type": "code",
   "execution_count": null,
   "id": "ae781ffc",
   "metadata": {},
   "outputs": [],
   "source": [
    "# Merge city_df and master_df on city\n",
    "master_df = pd.merge(master_df, city_df, on='city', how='inner')\n",
    "print(master_df.shape)\n",
    "master_df.head()\n"
   ]
  },
  {
   "cell_type": "code",
   "execution_count": null,
   "id": "75fbcfca",
   "metadata": {},
   "outputs": [],
   "source": [
    "# Check for null values and duplicate entries\n",
    "print('Percentage of null values in master_df : ', round(master_df.isnull().sum().sum() / master_df.shape[0] * 100, 2), '%')\n",
    "print('No of duplicate entries in master_df : ', master_df.duplicated().sum(), \"\\n\\n\\n\")\n"
   ]
  },
  {
   "cell_type": "markdown",
   "id": "238eea7f",
   "metadata": {},
   "source": [
    "Now, let us see if there are any columns that can be dropped"
   ]
  },
  {
   "cell_type": "code",
   "execution_count": null,
   "id": "dbb0c6e9",
   "metadata": {},
   "outputs": [],
   "source": [
    "master_df.head()\n"
   ]
  },
  {
   "cell_type": "code",
   "execution_count": null,
   "id": "f29e1575",
   "metadata": {},
   "outputs": [],
   "source": [
    "master_df.shape\n"
   ]
  },
  {
   "cell_type": "code",
   "execution_count": null,
   "id": "33ee81ff",
   "metadata": {},
   "outputs": [],
   "source": [
    "master_df.info()\n"
   ]
  },
  {
   "cell_type": "code",
   "execution_count": null,
   "id": "3bd18c90",
   "metadata": {},
   "outputs": [],
   "source": [
    "master_df.describe()\n"
   ]
  },
  {
   "cell_type": "code",
   "execution_count": null,
   "id": "32471b02",
   "metadata": {},
   "outputs": [],
   "source": [
    "for col in master_df.columns:\n",
    "    print(col)\n",
    "    print('-'*25)\n",
    "    print(\"No of unique values in {}: {}\".format(col, master_df[col].nunique()))\n",
    "    print(\"Percentage of unique values in {}: {}%\\n\".format(col, round(master_df[col].nunique()/master_df.shape[0]*100), 3))\n",
    "    print(master_df[col].value_counts(), \"\\n\\n\")\n",
    "    "
   ]
  },
  {
   "cell_type": "markdown",
   "id": "4932410d",
   "metadata": {},
   "source": [
    "### <i>Observations</i>\n",
    "------------------------------\n",
    "1. <b>transaction_id</b> has 100% unique values. SO we can drop this column.\n",
    "2. <b>customer_id</b> is also a similar id column. But we might need this column because we can segment the dfataframe based on the demographics of users of the cabs.\n",
    "\n"
   ]
  },
  {
   "cell_type": "code",
   "execution_count": null,
   "id": "616f81df",
   "metadata": {},
   "outputs": [],
   "source": [
    "# drop transaction_id\n",
    "print(\"Before column drop: \", list(master_df.columns), \"\\n\")\n",
    "\n",
    "master_df.drop(columns='transaction_id', inplace=True)\n",
    "\n",
    "print(\"After column drop: \", list(master_df.columns), \"\\n\\n\")\n"
   ]
  },
  {
   "cell_type": "markdown",
   "id": "d761d5a8",
   "metadata": {},
   "source": [
    "<br />\n",
    "<br />\n",
    "\n",
    "### 7. Derive features, if necessary\n",
    "<hr />\n"
   ]
  },
  {
   "cell_type": "markdown",
   "id": "86365b55",
   "metadata": {},
   "source": [
    "Let us take a look at the columns to see if we can dervie some features out of it"
   ]
  },
  {
   "cell_type": "code",
   "execution_count": null,
   "id": "e9e349f0",
   "metadata": {},
   "outputs": [],
   "source": [
    "master_df.info()"
   ]
  },
  {
   "cell_type": "code",
   "execution_count": null,
   "id": "dc1670e4",
   "metadata": {},
   "outputs": [],
   "source": [
    "master_df.head()"
   ]
  },
  {
   "cell_type": "markdown",
   "id": "6485f6a3",
   "metadata": {},
   "source": [
    "### <i>Observations</i>\n",
    "------------------------------\n",
    "1. We can derive the following columns from date_of_travel:\n",
    "    - <b>month_of_travel</b>\n",
    "    - <b>day_of_travel</b>\n",
    "    - <b>year_of_travel</b>\n",
    "    - <b>is_weekend</b>\n",
    "    - <b>weekday_of_travel</b>\n",
    "    \n",
    "    \n",
    "2. We can also make another feature - age group from the age column\n",
    "    \n",
    "    "
   ]
  },
  {
   "cell_type": "code",
   "execution_count": null,
   "id": "ed755e25",
   "metadata": {},
   "outputs": [],
   "source": [
    "# derive month_of_travel\n",
    "master_df['month_of_travel'] = master_df.date_of_travel.dt.month\n",
    "month_list = ['Jan', 'Feb', 'Mar', 'Apr', 'May', 'Jun', 'Jul', 'Aug', 'Sep', 'Oct', 'Nov', 'Dec']\n",
    "master_df.month_of_travel = master_df.month_of_travel.apply(lambda m: month_list[m-1])\n",
    "\n",
    "# derive year_of_travel\n",
    "master_df['year_of_travel'] = master_df.date_of_travel.dt.year\n",
    "\n",
    "# dervive day_of_travel\n",
    "master_df['day_of_travel'] = master_df.date_of_travel.dt.day\n",
    "\n",
    "# derive weekday_of_travel\n",
    "master_df['weekday_of_travel'] = master_df.date_of_travel.dt.weekday\n",
    "weekdays = ['Monday', 'tuesday', 'Wednesday', 'Thursday', 'Friday', 'Saturday', 'Sunday']\n",
    "master_df.weekday_of_travel = master_df.weekday_of_travel.apply(lambda d: weekdays[d])\n",
    "\n",
    "# derive is_weekend - 0(Monday), ..., 4(Friday), 5(Staurday), 6(Sunday)\n",
    "master_df['is_weekend'] = master_df.weekday_of_travel.apply(lambda day: 'Yes' if day in ['Saturday', 'Sunday'] else 'No')\n",
    "\n",
    "# Finally drop the date_of_travel column since we have extracted all the features from it\n",
    "master_df.drop(columns='date_of_travel', inplace=True)\n",
    "\n",
    "master_df.head()\n"
   ]
  },
  {
   "cell_type": "code",
   "execution_count": null,
   "id": "859edce7",
   "metadata": {},
   "outputs": [],
   "source": [
    "# derive column - age group\n",
    "master_df['age_group'] = pd.cut( master_df.age, \n",
    "                                bins=[0, 15, 19, 29, 39, 49, 59, 200], \n",
    "                                labels=['Kid', 'Teenager', '20s', '30s', '40s', '50s', 'Senior Citizen'])\n"
   ]
  },
  {
   "cell_type": "code",
   "execution_count": null,
   "id": "b6716882",
   "metadata": {},
   "outputs": [],
   "source": [
    "master_df.info()"
   ]
  },
  {
   "cell_type": "code",
   "execution_count": null,
   "id": "9625b9bc",
   "metadata": {},
   "outputs": [],
   "source": [
    "\n",
    "# unique values in columns in master_df\n",
    "for col in master_df.columns:\n",
    "    print(col)\n",
    "    print('-'*25)\n",
    "    print(\"No of unique values in {}: {}\".format(col, master_df[col].nunique()))\n",
    "    print(\"Percentage of unique values in {}: {}%\\n\".format(col, round(master_df[col].nunique()/master_df.shape[0]*100), 3))\n",
    "    print(master_df[col].value_counts(), \"\\n\\n\")\n",
    "    "
   ]
  },
  {
   "cell_type": "markdown",
   "id": "c80f8c65",
   "metadata": {},
   "source": [
    "<br />\n",
    "<br />\n",
    "\n",
    "### 8. Check for outliers\n",
    "<hr />\n"
   ]
  },
  {
   "cell_type": "code",
   "execution_count": null,
   "id": "58f9f323",
   "metadata": {},
   "outputs": [],
   "source": [
    "master_df.describe()\n"
   ]
  },
  {
   "cell_type": "markdown",
   "id": "ff2b7af5",
   "metadata": {},
   "source": [
    "Let us check for outliers by plotting box plots for each of the numerical columns"
   ]
  },
  {
   "cell_type": "code",
   "execution_count": null,
   "id": "95d3df8c",
   "metadata": {},
   "outputs": [],
   "source": [
    "sns.set_style('darkgrid')\n"
   ]
  },
  {
   "cell_type": "code",
   "execution_count": null,
   "id": "a5e6ae25",
   "metadata": {},
   "outputs": [],
   "source": [
    "fig, ax = plt.subplots(4,3, figsize=(20,20))\n",
    "\n",
    "# select numeric columns only\n",
    "numeric_cols = list(master_df.select_dtypes(include=np.number).columns)\n",
    "\n",
    "# set title for subplots\n",
    "fig.suptitle(\"Box plots for numeric columns to find outliers\", fontsize=30)\n",
    "\n",
    "\n",
    "for i, col in enumerate(numeric_cols):\n",
    "    r = i // 3\n",
    "    c = i % 3\n",
    "    sns.boxplot(master_df[col], ax=ax[r][c])\n",
    "    ax[r,c].set_title(col, fontsize=15)\n",
    "    \n",
    "ax[3,1].set_axis_off()\n",
    "ax[3,2].set_axis_off()\n"
   ]
  },
  {
   "cell_type": "markdown",
   "id": "28b5a23e",
   "metadata": {},
   "source": [
    "### <i>Observations</i>\n",
    "------------------------------\n",
    "The only column that seems to have outliers is <b>price_charged</b>. Let us take a look at the same. Moreover, this column seems to be dependent on the <b>cost_of_trip</b> column, which on the other hand has no outliers.\n",
    "   "
   ]
  },
  {
   "cell_type": "code",
   "execution_count": null,
   "id": "b75c4fa5",
   "metadata": {},
   "outputs": [],
   "source": [
    "# check whether hypothesis that price_changed and cost_of_trip is correlated by plotting a heatmap\n",
    "plt.figure(figsize=(10, 10))\n",
    "sns.heatmap(master_df.corr(), cmap='Blues', annot=True, linewidth=0.5, fmt='.2f')\n"
   ]
  },
  {
   "cell_type": "markdown",
   "id": "93c7b92f",
   "metadata": {},
   "source": [
    "### <i>Observations</i>\n",
    "------------------------------\n",
    "Dark colour signifies high correlation(->1) and light colour signifies low correlation(->0).\n",
    "\n",
    "For <b>price_changed</b> and <b>cost_of_trip</b> the correlation colour is dark blue, which corresponds to a correlation of ~0.86 (86%). This is a very high value. The same trend can be seen with <b>km_travelled</b>.\n",
    "\n",
    "Now, let us closely inspect the <b>price_charged</b> column to try find the reason behind the outliers.\n",
    "<br />\n"
   ]
  },
  {
   "cell_type": "code",
   "execution_count": null,
   "id": "acc8cfbe",
   "metadata": {},
   "outputs": [],
   "source": [
    "master_df[['km_travelled', 'price_charged', 'cost_of_trip']]\n"
   ]
  },
  {
   "cell_type": "code",
   "execution_count": null,
   "id": "8845570d",
   "metadata": {},
   "outputs": [],
   "source": [
    "master_df[['km_travelled', 'price_charged', 'cost_of_trip']].describe()\n"
   ]
  },
  {
   "cell_type": "markdown",
   "id": "edbbce31",
   "metadata": {},
   "source": [
    "### <i>Observations</i>\n",
    "------------------------------\n",
    "As you can see the 75th percentile of <b>km_travelled</b>, <price_charged</b> and <b>cost_of_trip</b> are approx. 33, 584 and 414 respectively. This goes with the 25th and 50th percentiles. On the other hand, the maximum value in these columns are 48, 2048, 691 respectively. While <b>klm_travelled</b> and <b>cost_of_trip</b> values seem to be reasonable, there is a huge jump in the value of <b>price charged</b>.\n",
    "\n",
    "Let us take a closer look at these hyped values in the <b>price_charged</b> column.\n",
    "\n",
    "<br />\n",
    "\n"
   ]
  },
  {
   "cell_type": "code",
   "execution_count": null,
   "id": "fb2c8c75",
   "metadata": {},
   "outputs": [],
   "source": [
    "fig, ax = plt.subplots(1, 3, figsize=(15,5))\n",
    "sns.boxplot(y=master_df.km_travelled, orient='v', ax=ax[0])\n",
    "sns.boxplot(y=master_df.price_charged, orient='v', ax=ax[1])\n",
    "sns.boxplot(y=master_df.cost_of_trip, orient='v', ax=ax[2])\n"
   ]
  },
  {
   "cell_type": "code",
   "execution_count": null,
   "id": "7a863dd3",
   "metadata": {},
   "outputs": [],
   "source": [
    "fig, ax = plt.subplots(1, 3, figsize=(15,5))\n",
    "sns.distplot(master_df.km_travelled, bins=50, ax=ax[0])\n",
    "sns.distplot(master_df.price_charged, bins=50, ax=ax[1])\n",
    "sns.distplot(master_df.cost_of_trip, bins=50, ax=ax[2])\n"
   ]
  },
  {
   "cell_type": "code",
   "execution_count": null,
   "id": "983ebbe3",
   "metadata": {},
   "outputs": [],
   "source": [
    "fig, ax = plt.subplots(1, 3, figsize=(15,5))\n",
    "sns.scatterplot(master_df.km_travelled, master_df.price_charged, ax=ax[0])\n",
    "sns.scatterplot(master_df.cost_of_trip, master_df.price_charged, ax=ax[1])\n",
    "sns.scatterplot(master_df.km_travelled, master_df.cost_of_trip, ax=ax[2])\n"
   ]
  },
  {
   "cell_type": "markdown",
   "id": "facf6a25",
   "metadata": {},
   "source": [
    "### <i>Observations</i>\n",
    "<hr />\n",
    "\n",
    "As you can see, the distribution of <b>km_travelled</b> and <b>cost_of_trip</b> are some what resemble and can almost be approximated to a trapezoid with 2 right angles.\n",
    "\n",
    "While that of <b>price_charged</b> is quite different. It follows the same trend as the other two for <b>price_charged < 500</b>. After that the slope is dropping at a faster rate towards large values.\n",
    "    \n",
    "<br />\n",
    "\n",
    " "
   ]
  },
  {
   "cell_type": "code",
   "execution_count": null,
   "id": "17afd294",
   "metadata": {},
   "outputs": [],
   "source": [
    "# look at rows with oitliers in price_charged column\n",
    "q1 = np.percentile(master_df.price_charged, 25, interpolation='midpoint')\n",
    "q3 = np.percentile(master_df.price_charged, 75, interpolation='midpoint')\n",
    "\n",
    "IQR = q3 - q1\n",
    "\n",
    "print(q1, q3, IQR)\n"
   ]
  },
  {
   "cell_type": "code",
   "execution_count": null,
   "id": "0757273e",
   "metadata": {},
   "outputs": [],
   "source": [
    "upper = q3 + 1.5*IQR\n",
    "lower = q1 - 1.5*IQR\n",
    "\n",
    "print(upper, lower)\n"
   ]
  },
  {
   "cell_type": "code",
   "execution_count": null,
   "id": "d7a8df06",
   "metadata": {},
   "outputs": [],
   "source": [
    "outlier_df = master_df[(master_df.price_charged >= upper) | (master_df.price_charged <= lower)] \\\n",
    "                        [['km_travelled', 'price_charged', 'cost_of_trip']]\n",
    "outlier_df.shape\n"
   ]
  },
  {
   "cell_type": "code",
   "execution_count": null,
   "id": "6547b476",
   "metadata": {},
   "outputs": [],
   "source": [
    "outlier_df.info()"
   ]
  },
  {
   "cell_type": "code",
   "execution_count": null,
   "id": "252412f4",
   "metadata": {},
   "outputs": [],
   "source": [
    "outlier_df.head()"
   ]
  },
  {
   "cell_type": "code",
   "execution_count": null,
   "id": "4321f887",
   "metadata": {},
   "outputs": [],
   "source": [
    "print(\"Percentage of outliers in price_charged: {}%\\n\\n\".format(round(outlier_df.shape[0] / master_df.shape[0] * 100, 2)))\n"
   ]
  },
  {
   "cell_type": "markdown",
   "id": "ac66fd36",
   "metadata": {},
   "source": [
    "<br />\n",
    "<br />\n",
    "\n",
    "### 9. Sanity checks\n",
    "<hr />\n"
   ]
  },
  {
   "cell_type": "code",
   "execution_count": null,
   "id": "b81c97e2",
   "metadata": {},
   "outputs": [],
   "source": [
    "master_df.describe()"
   ]
  },
  {
   "cell_type": "markdown",
   "id": "6c0357cf",
   "metadata": {},
   "source": [
    "<br />\n"
   ]
  },
  {
   "cell_type": "markdown",
   "id": "1d66f1c3",
   "metadata": {},
   "source": [
    "<br />\n",
    "<br />\n",
    "<br />\n",
    "\n",
    "\n",
    "## Exploratory Data Analysis\n",
    "<hr />\n",
    "\n",
    "1. Univariate analysis\n",
    "2. Bivariate analysis\n",
    "3. Multivariate analysis\n",
    "<br />\n",
    "<br />\n",
    "\n",
    "### Univariate analysis\n",
    "<hr />\n"
   ]
  },
  {
   "cell_type": "code",
   "execution_count": null,
   "id": "029e6398",
   "metadata": {},
   "outputs": [],
   "source": [
    "master_df.info()"
   ]
  },
  {
   "cell_type": "code",
   "execution_count": null,
   "id": "1b8916cb",
   "metadata": {},
   "outputs": [],
   "source": [
    "master_df.head(3)"
   ]
  },
  {
   "cell_type": "code",
   "execution_count": null,
   "id": "f573325f",
   "metadata": {},
   "outputs": [],
   "source": [
    "numeric_cols = ['km_travelled', 'price_charged', 'cost_of_trip', 'income_usd_per_month', 'population', 'users']\n",
    "category_cols = ['company', 'city', 'payment_mode', 'gender', 'age', 'age_group']\n",
    "date_cols = ['month_of_travel', 'year_of_travel', 'day_of_travel', 'weekday_of_travel', 'is_weekend']\n"
   ]
  },
  {
   "cell_type": "code",
   "execution_count": null,
   "id": "bd23544a",
   "metadata": {},
   "outputs": [],
   "source": [
    "# Analyse the numerical columns\n",
    "for col in numeric_cols:\n",
    "    plt.figure(figsize=(10,5))\n",
    "    sns.histplot(master_df[col])\n",
    "    plt.xlabel(col, fontsize=15)\n",
    "    plt.show()\n",
    "    "
   ]
  },
  {
   "cell_type": "markdown",
   "id": "261f9236",
   "metadata": {},
   "source": [
    "<br />\n"
   ]
  },
  {
   "cell_type": "code",
   "execution_count": null,
   "id": "44ffd707",
   "metadata": {},
   "outputs": [],
   "source": [
    "# Analyse the categorical columns\n",
    "for col in category_cols:\n",
    "    plt.figure(figsize=(15,5))\n",
    "    order_of_values = master_df[col].value_counts().index\n",
    "    sns.countplot(master_df[col], order=order_of_values)\n",
    "    plt.xlabel(col, fontsize=15)\n",
    "    plt.xticks(label=order_of_values, fontsize=12, rotation='vertical' if col=='city' else 'horizontal')\n",
    "    plt.show()\n",
    "    "
   ]
  },
  {
   "cell_type": "markdown",
   "id": "6acdead7",
   "metadata": {},
   "source": [
    "<br />"
   ]
  },
  {
   "cell_type": "code",
   "execution_count": null,
   "id": "516d1cda",
   "metadata": {},
   "outputs": [],
   "source": [
    "# Analyse the date columns\n",
    "for col in date_cols:\n",
    "    plt.figure(figsize=(15,5))\n",
    "    order_of_values = master_df[col].value_counts().index\n",
    "    sns.countplot(master_df[col], order=order_of_values)\n",
    "    plt.xlabel(col, fontsize=15)\n",
    "    plt.xticks(label=order_of_values, fontsize=12)\n",
    "    plt.show()\n",
    "    "
   ]
  },
  {
   "cell_type": "markdown",
   "id": "30ee3a9e",
   "metadata": {},
   "source": [
    "<br />\n"
   ]
  },
  {
   "cell_type": "code",
   "execution_count": null,
   "id": "a6f98699",
   "metadata": {},
   "outputs": [],
   "source": [
    "fig, ax = plt.subplots(4,3, figsize=(20,20))\n",
    "\n",
    "# select numeric columns only\n",
    "for i, col in enumerate(list(master_df.select_dtypes(include=np.number).columns)):\n",
    "    r = i // 3\n",
    "    c = i % 3\n",
    "    sns.boxplot(master_df[col], ax=ax[r][c])\n",
    "    ax[r,c].set_title(col, fontsize=15)\n",
    "    \n",
    "ax[3,1].set_axis_off()\n",
    "ax[3,2].set_axis_off()\n"
   ]
  },
  {
   "cell_type": "markdown",
   "id": "013d1a42",
   "metadata": {},
   "source": [
    "<br />\n",
    "\n",
    "### Observations\n",
    "<ol>\n",
    "    <li> There is more data pertaining to yellow cab </li>\n",
    "    <li> More no of cab users are from Newyork (almost double the no of the runner city), followed by Chicago, WashingtonDC and Ls Angeles </li>\n",
    "    <li> More payment has been made on card than cash </li>\n",
    "    <li> More male cab users than female </li>\n",
    "    <li> Most no of cab users fall in the age groups of 20-40 </li>\n",
    "</ol>        \n",
    "        \n",
    "<br />\n",
    "<br />\n",
    "        "
   ]
  },
  {
   "cell_type": "markdown",
   "id": "8c776c60",
   "metadata": {},
   "source": [
    "### Segmented univariate analysis\n",
    "<hr />\n",
    "\n",
    "Let us analyse the data by segmenting based on the company, Yellow cab and Pink cab.\n",
    "<br />\n"
   ]
  },
  {
   "cell_type": "code",
   "execution_count": null,
   "id": "44faab07",
   "metadata": {},
   "outputs": [],
   "source": [
    "fig, ax = plt.subplots(2,3, figsize=(20,15))\n",
    "\n",
    "# select numeric columns only\n",
    "for i, col in enumerate(numeric_cols):\n",
    "    r = i // 3\n",
    "    c = i % 3\n",
    "    sns.boxplot(x='company', y=col, data=master_df, ax=ax[r][c])\n",
    "    ax[r,c].set_title(col, fontsize=15)\n",
    "    "
   ]
  },
  {
   "cell_type": "markdown",
   "id": "35cc5a91",
   "metadata": {},
   "source": [
    "<br />"
   ]
  },
  {
   "cell_type": "code",
   "execution_count": null,
   "id": "39fb501c",
   "metadata": {},
   "outputs": [],
   "source": [
    "# Analyse the categorical columns\n",
    "for col in category_cols:\n",
    "    plt.figure(figsize=(15,5))\n",
    "    order_of_values = master_df[col].value_counts().index\n",
    "    sns.countplot(x=col, hue='company', data=master_df, order=order_of_values)\n",
    "    plt.xlabel(col, fontsize=15)\n",
    "    plt.ylabel('count', fontsize=15)\n",
    "    plt.xticks(label=order_of_values, fontsize=12, rotation='vertical' if col=='city' else 'horizontal')\n",
    "    plt.show()\n",
    "    "
   ]
  },
  {
   "cell_type": "markdown",
   "id": "f483d24a",
   "metadata": {},
   "source": [
    "<br />"
   ]
  },
  {
   "cell_type": "code",
   "execution_count": null,
   "id": "95318146",
   "metadata": {},
   "outputs": [],
   "source": [
    "# Analyse the date columns\n",
    "for col in date_cols:\n",
    "    plt.figure(figsize=(15,5))\n",
    "    order_of_values = master_df[col].value_counts().index\n",
    "    sns.countplot(x=col, hue='company', data=master_df, order=order_of_values)\n",
    "    plt.xlabel(col, fontsize=15)\n",
    "    plt.ylabel('count', fontsize=15)\n",
    "    plt.xticks(label=order_of_values, fontsize=12, rotation='vertical' if col=='city' else 'horizontal')\n",
    "    plt.show()\n",
    "    "
   ]
  },
  {
   "cell_type": "markdown",
   "id": "18018fbe",
   "metadata": {},
   "source": [
    "<br />\n",
    "\n",
    "### Observations\n",
    "<hr />\n",
    "<ol>\n",
    "    <li> The km_travelled is comparable for both Yellow and Pink cab </li>\n",
    "    <li> Both price_charged and cost_of_trip is comparatively higher for Yellow cab than Pink cab </li>\n",
    "    <li> In all the cities where the no of users is high, more no of poeple have opted for Yellow cab, especially in Neywork where this amount is almost 4 times that for Pink cab </li>\n",
    "    <li> All age groups have shown more interest in Yellow cab than pink cab </li>\n",
    "    <li> There is more demand for cabs (here also Yellow cab is in favour) during the last months of the year (highest in december) and low during the first months of the year (lowest in february). </li>\n",
    "    <li> More people have been found to using cab on Fridays, Saturdays and Sundays .i.e., when the weekend starts and during the weekend. </li>\n",
    "</ol>        \n",
    "        \n",
    "<br />\n",
    "<br />\n",
    "        "
   ]
  },
  {
   "cell_type": "markdown",
   "id": "f655acf8",
   "metadata": {},
   "source": [
    "<br />\n",
    "<br />\n",
    "\n",
    "### Bivariate analysis\n",
    "<hr />\n"
   ]
  },
  {
   "cell_type": "code",
   "execution_count": null,
   "id": "4c756ab3",
   "metadata": {},
   "outputs": [],
   "source": [
    "master_df.info()"
   ]
  },
  {
   "cell_type": "code",
   "execution_count": null,
   "id": "bbf7d066",
   "metadata": {},
   "outputs": [],
   "source": [
    "fig, ax = plt.subplots(2,3, figsize=(20,10))\n",
    "\n",
    "# select numeric columns only\n",
    "for i, col in enumerate(numeric_cols):\n",
    "    r = i // 3\n",
    "    c = i % 3\n",
    "    sns.boxplot(x='company', y=col, data=master_df, ax=ax[r][c])\n",
    "    ax[r,c].set_title(col, fontsize=15)"
   ]
  },
  {
   "cell_type": "code",
   "execution_count": null,
   "id": "9a95bdb8",
   "metadata": {},
   "outputs": [],
   "source": [
    "df = master_df.pivot_table(index='company', columns='month_of_travel', values='income_usd_per_month', aggfunc='sum')\n",
    "df\n"
   ]
  },
  {
   "cell_type": "code",
   "execution_count": null,
   "id": "6929ee0e",
   "metadata": {},
   "outputs": [],
   "source": [
    "order_of_values = df.sum().sort_values(ascending=False).index\n",
    "order_of_values\n"
   ]
  },
  {
   "cell_type": "code",
   "execution_count": null,
   "id": "1a687719",
   "metadata": {},
   "outputs": [],
   "source": [
    "df.T.plot(kind='bar', ylabel='income_usd_per_month', figsize=(15,5))\n"
   ]
  },
  {
   "cell_type": "markdown",
   "id": "33e7a2ff",
   "metadata": {},
   "source": [
    "<br />\n"
   ]
  },
  {
   "cell_type": "markdown",
   "id": "e6f24bf1",
   "metadata": {},
   "source": [
    "<br />\n",
    "<br />\n",
    "\n",
    "### Multivariate analysis\n",
    "<hr />\n"
   ]
  },
  {
   "cell_type": "code",
   "execution_count": null,
   "id": "1fba7999",
   "metadata": {},
   "outputs": [],
   "source": [
    "# Pair plot\n",
    "plt.figure(figsize=(20, 20))\n",
    "sns.pairplot(master_df)\n"
   ]
  },
  {
   "cell_type": "markdown",
   "id": "0c8f4c68",
   "metadata": {},
   "source": [
    "<br />\n",
    "\n",
    "### Inference\n",
    "<hr />\n",
    "It is best to invest in <b>Yellow Cab</b>. \n",
    "\n",
    "The reasons for the same are:\n",
    "- More income per month \n",
    "- More users\n",
    "- Comparatively higher cost of trip and price charged, but not too high for users to look in for alternatives.\n",
    "\n",
    "<br />\n",
    "<br />\n",
    "        "
   ]
  },
  {
   "cell_type": "code",
   "execution_count": null,
   "id": "e86192d8",
   "metadata": {},
   "outputs": [],
   "source": []
  }
 ],
 "metadata": {
  "kernelspec": {
   "display_name": "Python 3",
   "language": "python",
   "name": "python3"
  },
  "language_info": {
   "codemirror_mode": {
    "name": "ipython",
    "version": 3
   },
   "file_extension": ".py",
   "mimetype": "text/x-python",
   "name": "python",
   "nbconvert_exporter": "python",
   "pygments_lexer": "ipython3",
   "version": "3.8.8"
  }
 },
 "nbformat": 4,
 "nbformat_minor": 5
}
